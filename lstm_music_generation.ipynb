{
  "nbformat": 4,
  "nbformat_minor": 0,
  "metadata": {
    "colab": {
      "name": "lstm_music_generation.ipynb",
      "provenance": [],
      "collapsed_sections": [],
      "toc_visible": true,
      "mount_file_id": "1g7VCJw4ZnaXhsrHOnJF6hGgRzVc6MwBG",
      "authorship_tag": "ABX9TyNz6CZCmaE3XKPDjb4Q+bO8",
      "include_colab_link": true
    },
    "kernelspec": {
      "name": "python3",
      "display_name": "Python 3"
    },
    "accelerator": "GPU"
  },
  "cells": [
    {
      "cell_type": "markdown",
      "metadata": {
        "id": "view-in-github",
        "colab_type": "text"
      },
      "source": [
        "<a href=\"https://colab.research.google.com/github/jehasbani/music_generator/blob/master/lstm_music_generation.ipynb\" target=\"_parent\"><img src=\"https://colab.research.google.com/assets/colab-badge.svg\" alt=\"Open In Colab\"/></a>"
      ]
    },
    {
      "cell_type": "code",
      "metadata": {
        "id": "79eRlWaNcz1I",
        "colab_type": "code",
        "colab": {}
      },
      "source": [
        "from music21 import *\n",
        "import numpy as np\n",
        "import os\n",
        "from collections import Counter\n",
        "import matplotlib.pyplot as plt\n",
        "from sklearn.model_selection import train_test_split\n",
        "from keras.layers import *\n",
        "from keras.models import *\n",
        "from keras.callbacks import *\n",
        "import keras.backend as K\n",
        "import random"
      ],
      "execution_count": 29,
      "outputs": []
    },
    {
      "cell_type": "code",
      "metadata": {
        "id": "zZRtXlP_dQC6",
        "colab_type": "code",
        "colab": {}
      },
      "source": [
        "def read_midi(file):\n",
        "  notes = []\n",
        "  notes_to_parse = None\n",
        "  midi = converter.parse(file)\n",
        "\n",
        "  s2 = instrument.partitionByInstrument(midi)\n",
        "  print(s2)\n",
        "  for part in s2.parts:\n",
        "    print(part)\n",
        "    if 'Piano' in str(part):\n",
        "      notes_to_parse = part.recurse()\n",
        "      for element in notes_to_parse:\n",
        "        if isinstance(element,note.Note):\n",
        "          notes.append(str(element.pitch))\n",
        "        elif isinstance(element,chord.Chord):\n",
        "          notes.append('.'.join(str(n) for n in element.normalOrder))\n",
        "  return np.array(notes)"
      ],
      "execution_count": 52,
      "outputs": []
    },
    {
      "cell_type": "markdown",
      "metadata": {
        "id": "cs5-yfR-kuR-",
        "colab_type": "text"
      },
      "source": [
        "# Uploading  data"
      ]
    },
    {
      "cell_type": "code",
      "metadata": {
        "id": "0RNtYesTfTcG",
        "colab_type": "code",
        "colab": {
          "base_uri": "https://localhost:8080/",
          "height": 54
        },
        "outputId": "429cedeb-9381-4bee-b6c7-a95dc18c0b2e"
      },
      "source": [
        "from google.colab import drive\n",
        "drive.mount('/content/drive/')"
      ],
      "execution_count": 3,
      "outputs": [
        {
          "output_type": "stream",
          "text": [
            "Drive already mounted at /content/drive/; to attempt to forcibly remount, call drive.mount(\"/content/drive/\", force_remount=True).\n"
          ],
          "name": "stdout"
        }
      ]
    },
    {
      "cell_type": "code",
      "metadata": {
        "id": "o6DGmFtzfnAJ",
        "colab_type": "code",
        "colab": {}
      },
      "source": [
        "cwd = '/content/drive/My Drive/music_generator'\n",
        "files_path = os.path.join(cwd,'schubert')"
      ],
      "execution_count": 4,
      "outputs": []
    },
    {
      "cell_type": "code",
      "metadata": {
        "id": "gTfDDbBegWqf",
        "colab_type": "code",
        "colab": {}
      },
      "source": [
        "files = [i for i in os.listdir(files_path) if i.endswith('.mid')]"
      ],
      "execution_count": 5,
      "outputs": []
    },
    {
      "cell_type": "code",
      "metadata": {
        "id": "onE2NxlVgks5",
        "colab_type": "code",
        "colab": {}
      },
      "source": [
        "notes_array = [read_midi(os.path.join(files_path,file)) for file in files]"
      ],
      "execution_count": 6,
      "outputs": []
    },
    {
      "cell_type": "markdown",
      "metadata": {
        "id": "Fndyloaxk289",
        "colab_type": "text"
      },
      "source": [
        "# Data exploration"
      ]
    },
    {
      "cell_type": "code",
      "metadata": {
        "id": "6yzd02yHglSg",
        "colab_type": "code",
        "colab": {
          "base_uri": "https://localhost:8080/",
          "height": 34
        },
        "outputId": "66330255-3e8d-4141-a6e3-d5b1b3b74dc4"
      },
      "source": [
        "notes_ = [element for note_ in notes_array for element in note_]\n",
        "unique_notes = list(set(notes_))\n",
        "print(len(unique_notes))"
      ],
      "execution_count": 7,
      "outputs": [
        {
          "output_type": "stream",
          "text": [
            "304\n"
          ],
          "name": "stdout"
        }
      ]
    },
    {
      "cell_type": "code",
      "metadata": {
        "id": "-j-jvSLglRNo",
        "colab_type": "code",
        "colab": {
          "base_uri": "https://localhost:8080/",
          "height": 319
        },
        "outputId": "b703df2f-c18a-481e-d12b-643a3a8c87e6"
      },
      "source": [
        "freq = dict(Counter(notes_))\n",
        "no = [count for note_,count in freq.items()]\n",
        "\n",
        "plt.figure(figsize=(5,5))\n",
        "plt.hist(no)\n",
        "plt.show()"
      ],
      "execution_count": 8,
      "outputs": [
        {
          "output_type": "display_data",
          "data": {
            "image/png": "[encoded data removed]",
            "text/plain": [
              "<Figure size 360x360 with 1 Axes>"
            ]
          },
          "metadata": {
            "tags": [],
            "image/png": {
              "width": 319,
              "height": 302
            },
            "needs_background": "light"
          }
        }
      ]
    },
    {
      "cell_type": "code",
      "metadata": {
        "id": "HTgD4t0dmj-c",
        "colab_type": "code",
        "colab": {
          "base_uri": "https://localhost:8080/",
          "height": 34
        },
        "outputId": "b7beb4b9-7ac1-4e52-a876-577daefa0368"
      },
      "source": [
        "frequent_notes = [note_ for note_,count in freq.items() if count>=50]\n",
        "print(len(frequent_notes))"
      ],
      "execution_count": 9,
      "outputs": [
        {
          "output_type": "stream",
          "text": [
            "167\n"
          ],
          "name": "stdout"
        }
      ]
    },
    {
      "cell_type": "code",
      "metadata": {
        "id": "hIUpfmSFl_M8",
        "colab_type": "code",
        "colab": {}
      },
      "source": [
        "new_music = []\n",
        "\n",
        "for notes in notes_array:\n",
        "  temp = []\n",
        "  for note_ in notes:\n",
        "    if note_ in frequent_notes:\n",
        "      temp.append(note_)\n",
        "  new_music.append(temp)\n",
        "\n",
        "new_music = np.array(new_music)"
      ],
      "execution_count": 10,
      "outputs": []
    },
    {
      "cell_type": "markdown",
      "metadata": {
        "id": "dMUBhGuVoCT3",
        "colab_type": "text"
      },
      "source": [
        "# Preparing data\n",
        "\n",
        "input and output sequences"
      ]
    },
    {
      "cell_type": "code",
      "metadata": {
        "id": "-CeNhhNxnyOd",
        "colab_type": "code",
        "colab": {}
      },
      "source": [
        "n_timesteps = 32\n",
        "x = []\n",
        "y = []\n",
        "\n",
        "for note_ in new_music:\n",
        "  for i in range(0, len(note_) - n_timesteps, 1):\n",
        "    input_ = note_[i:i + n_timesteps]\n",
        "    output = note_[i + n_timesteps]\n",
        "  \n",
        "    x.append(input_)\n",
        "    y.append(output)\n",
        "\n",
        "x = np.array(x)\n",
        "y = np.array(y)"
      ],
      "execution_count": 11,
      "outputs": []
    },
    {
      "cell_type": "markdown",
      "metadata": {
        "id": "h-X6rn05d0YY",
        "colab_type": "text"
      },
      "source": [
        "unique integer to every note\n",
        "\n",
        "\n"
      ]
    },
    {
      "cell_type": "code",
      "metadata": {
        "id": "-vRUiWbMpZqe",
        "colab_type": "code",
        "colab": {}
      },
      "source": [
        "unique_x = list(set(x.ravel()))\n",
        "x_note_to_int = dict((note_,number) for number, note_ in enumerate(unique_x))"
      ],
      "execution_count": 12,
      "outputs": []
    },
    {
      "cell_type": "markdown",
      "metadata": {
        "id": "eqNYai5zd30D",
        "colab_type": "text"
      },
      "source": [
        "integer sequences to input data"
      ]
    },
    {
      "cell_type": "code",
      "metadata": {
        "id": "5eO2mf4sp9T_",
        "colab_type": "code",
        "colab": {}
      },
      "source": [
        "x_seq = []\n",
        "\n",
        "for i in x:\n",
        "  temp = []\n",
        "  for j in i:\n",
        "    temp.append(x_note_to_int[j])\n",
        "  x_seq.append(temp)\n",
        "\n",
        "x_seq = np.array(x_seq)"
      ],
      "execution_count": 13,
      "outputs": []
    },
    {
      "cell_type": "markdown",
      "metadata": {
        "id": "uWqFO5gaeEuH",
        "colab_type": "text"
      },
      "source": [
        "Apply to output"
      ]
    },
    {
      "cell_type": "code",
      "metadata": {
        "id": "b47no5PsdEhi",
        "colab_type": "code",
        "colab": {}
      },
      "source": [
        "unique_y = list(set(y))\n",
        "y_note_to_int = dict((note_,number) for number, note_ in enumerate(unique_y))\n",
        "y_seq = [y_note_to_int[i] for i in y]"
      ],
      "execution_count": 14,
      "outputs": []
    },
    {
      "cell_type": "markdown",
      "metadata": {
        "id": "niYdtEzYeLFn",
        "colab_type": "text"
      },
      "source": [
        "Train test split"
      ]
    },
    {
      "cell_type": "code",
      "metadata": {
        "id": "9nOKmc2TdftS",
        "colab_type": "code",
        "colab": {}
      },
      "source": [
        "x_train, x_test, y_train, y_test = train_test_split(x_seq, y_seq, test_size = 0.2, random_state=0)"
      ],
      "execution_count": 22,
      "outputs": []
    },
    {
      "cell_type": "code",
      "metadata": {
        "id": "K300oJlhhXNW",
        "colab_type": "code",
        "colab": {}
      },
      "source": [
        "x_train, x_val, y_train, y_val = train_test_split(x_train, y_train, test_size=0.2, random_state=0)"
      ],
      "execution_count": 23,
      "outputs": []
    },
    {
      "cell_type": "code",
      "metadata": {
        "id": "nqkWloqQhvdj",
        "colab_type": "code",
        "colab": {
          "base_uri": "https://localhost:8080/",
          "height": 68
        },
        "outputId": "e4907bc4-4846-474c-804c-97fe0e79ae4d"
      },
      "source": [
        "print(f'Train:{len(x_train)}')\n",
        "print(f'Validation:{len(x_val)}')\n",
        "print(f'Test:{len(x_test)}')"
      ],
      "execution_count": 24,
      "outputs": [
        {
          "output_type": "stream",
          "text": [
            "Train:41224\n",
            "Validation:10306\n",
            "Test:12883\n"
          ],
          "name": "stdout"
        }
      ]
    },
    {
      "cell_type": "markdown",
      "metadata": {
        "id": "9G-WSsVpey1Y",
        "colab_type": "text"
      },
      "source": [
        "# Model definition"
      ]
    },
    {
      "cell_type": "markdown",
      "metadata": {
        "id": "tzBBGtRsfL7H",
        "colab_type": "text"
      },
      "source": [
        "## LSTM"
      ]
    },
    {
      "cell_type": "code",
      "metadata": {
        "id": "XlRv_sJJesn4",
        "colab_type": "code",
        "colab": {
          "base_uri": "https://localhost:8080/",
          "height": 391
        },
        "outputId": "4802c1d6-2719-444b-90f7-b1b3ac3041e7"
      },
      "source": [
        "K.clear_session()\n",
        "model = Sequential()\n",
        "model.add(Embedding(len(unique_x), 100, input_length=32,trainable=True)) \n",
        "model.add(LSTM(128,return_sequences=True))\n",
        "model.add(LSTM(128))\n",
        "model.add(Dense(256))\n",
        "model.add(Activation('relu'))\n",
        "model.add(Dense(len(unique_y)))\n",
        "model.add(Activation('softmax'))\n",
        "model.compile(loss='sparse_categorical_crossentropy', optimizer='adam')\n",
        "\n",
        "model.summary()"
      ],
      "execution_count": 43,
      "outputs": [
        {
          "output_type": "stream",
          "text": [
            "Model: \"sequential\"\n",
            "_________________________________________________________________\n",
            "Layer (type)                 Output Shape              Param #   \n",
            "=================================================================\n",
            "embedding (Embedding)        (None, 32, 100)           16700     \n",
            "_________________________________________________________________\n",
            "lstm (LSTM)                  (None, 32, 128)           117248    \n",
            "_________________________________________________________________\n",
            "lstm_1 (LSTM)                (None, 128)               131584    \n",
            "_________________________________________________________________\n",
            "dense (Dense)                (None, 256)               33024     \n",
            "_________________________________________________________________\n",
            "activation (Activation)      (None, 256)               0         \n",
            "_________________________________________________________________\n",
            "dense_1 (Dense)              (None, 167)               42919     \n",
            "_________________________________________________________________\n",
            "activation_1 (Activation)    (None, 167)               0         \n",
            "=================================================================\n",
            "Total params: 341,475\n",
            "Trainable params: 341,475\n",
            "Non-trainable params: 0\n",
            "_________________________________________________________________\n"
          ],
          "name": "stdout"
        }
      ]
    },
    {
      "cell_type": "markdown",
      "metadata": {
        "id": "Vmwm45TcfV-L",
        "colab_type": "text"
      },
      "source": [
        "## WaveNet (modified)"
      ]
    },
    {
      "cell_type": "code",
      "metadata": {
        "id": "IMV4ejlCfOv3",
        "colab_type": "code",
        "colab": {
          "base_uri": "https://localhost:8080/",
          "height": 595
        },
        "outputId": "85e81c7f-42a4-4a68-f165-e4796ea4b951"
      },
      "source": [
        "K.clear_session()\n",
        "model = Sequential()\n",
        "    \n",
        "#embedding layer\n",
        "model.add(Embedding(len(unique_x), 100, input_length=32,trainable=True)) \n",
        "\n",
        "model.add(Conv1D(64,3, padding='causal',activation='relu'))\n",
        "model.add(Dropout(0.2))\n",
        "model.add(MaxPool1D(2))\n",
        "    \n",
        "model.add(Conv1D(128,3,activation='relu',dilation_rate=2,padding='causal'))\n",
        "model.add(Dropout(0.2))\n",
        "model.add(MaxPool1D(2))\n",
        "\n",
        "model.add(Conv1D(256,3,activation='relu',dilation_rate=4,padding='causal'))\n",
        "model.add(Dropout(0.2))\n",
        "model.add(MaxPool1D(2))\n",
        "          \n",
        "#model.add(Conv1D(256,5,activation='relu'))    \n",
        "model.add(GlobalMaxPool1D())\n",
        "    \n",
        "model.add(Dense(256, activation='relu'))\n",
        "model.add(Dense(len(unique_y), activation='softmax'))\n",
        "    \n",
        "model.compile(loss='sparse_categorical_crossentropy', optimizer='adam')\n",
        "\n",
        "model.summary()"
      ],
      "execution_count": 17,
      "outputs": [
        {
          "output_type": "stream",
          "text": [
            "Model: \"sequential\"\n",
            "_________________________________________________________________\n",
            "Layer (type)                 Output Shape              Param #   \n",
            "=================================================================\n",
            "embedding (Embedding)        (None, 32, 100)           16700     \n",
            "_________________________________________________________________\n",
            "conv1d (Conv1D)              (None, 32, 64)            19264     \n",
            "_________________________________________________________________\n",
            "dropout (Dropout)            (None, 32, 64)            0         \n",
            "_________________________________________________________________\n",
            "max_pooling1d (MaxPooling1D) (None, 16, 64)            0         \n",
            "_________________________________________________________________\n",
            "conv1d_1 (Conv1D)            (None, 16, 128)           24704     \n",
            "_________________________________________________________________\n",
            "dropout_1 (Dropout)          (None, 16, 128)           0         \n",
            "_________________________________________________________________\n",
            "max_pooling1d_1 (MaxPooling1 (None, 8, 128)            0         \n",
            "_________________________________________________________________\n",
            "conv1d_2 (Conv1D)            (None, 8, 256)            98560     \n",
            "_________________________________________________________________\n",
            "dropout_2 (Dropout)          (None, 8, 256)            0         \n",
            "_________________________________________________________________\n",
            "max_pooling1d_2 (MaxPooling1 (None, 4, 256)            0         \n",
            "_________________________________________________________________\n",
            "global_max_pooling1d (Global (None, 256)               0         \n",
            "_________________________________________________________________\n",
            "dense (Dense)                (None, 256)               65792     \n",
            "_________________________________________________________________\n",
            "dense_1 (Dense)              (None, 167)               42919     \n",
            "=================================================================\n",
            "Total params: 267,939\n",
            "Trainable params: 267,939\n",
            "Non-trainable params: 0\n",
            "_________________________________________________________________\n"
          ],
          "name": "stdout"
        }
      ]
    },
    {
      "cell_type": "code",
      "metadata": {
        "id": "vLdgJ_d-fcZG",
        "colab_type": "code",
        "colab": {}
      },
      "source": [
        "checkpointer = ModelCheckpoint(os.path.join(cwd,'best_model.h5'), \n",
        "                               monitor='val_loss', \n",
        "                               mode='min', \n",
        "                               save_best_only=True,\n",
        "                               verbose=1)"
      ],
      "execution_count": 44,
      "outputs": []
    },
    {
      "cell_type": "code",
      "metadata": {
        "id": "xIt5rPwpfmbj",
        "colab_type": "code",
        "colab": {
          "base_uri": "https://localhost:8080/",
          "height": 1000
        },
        "outputId": "c588d853-29e9-4f6a-fd50-4d944a6ecb9b"
      },
      "source": [
        "history = model.fit(np.array(x_train),\n",
        "                    np.array(y_train),\n",
        "                    batch_size=128,\n",
        "                    epochs=50, \n",
        "                    validation_data=(np.array(x_val),np.array(y_val)),\n",
        "                    verbose=1, callbacks=[checkpointer])"
      ],
      "execution_count": 45,
      "outputs": [
        {
          "output_type": "stream",
          "text": [
            "Epoch 1/50\n",
            "322/323 [============================>.] - ETA: 0s - loss: 4.3080\n",
            "Epoch 00001: val_loss improved from inf to 3.89962, saving model to /content/drive/My Drive/music_generator/best_model.h5\n",
            "323/323 [==============================] - 4s 12ms/step - loss: 4.3079 - val_loss: 3.8996\n",
            "Epoch 2/50\n",
            "317/323 [============================>.] - ETA: 0s - loss: 3.7716\n",
            "Epoch 00002: val_loss improved from 3.89962 to 3.69036, saving model to /content/drive/My Drive/music_generator/best_model.h5\n",
            "323/323 [==============================] - 3s 9ms/step - loss: 3.7711 - val_loss: 3.6904\n",
            "Epoch 3/50\n",
            "323/323 [==============================] - ETA: 0s - loss: 3.5823\n",
            "Epoch 00003: val_loss improved from 3.69036 to 3.55590, saving model to /content/drive/My Drive/music_generator/best_model.h5\n",
            "323/323 [==============================] - 3s 9ms/step - loss: 3.5823 - val_loss: 3.5559\n",
            "Epoch 4/50\n",
            "318/323 [============================>.] - ETA: 0s - loss: 3.4216\n",
            "Epoch 00004: val_loss improved from 3.55590 to 3.44241, saving model to /content/drive/My Drive/music_generator/best_model.h5\n",
            "323/323 [==============================] - 3s 9ms/step - loss: 3.4214 - val_loss: 3.4424\n",
            "Epoch 5/50\n",
            "318/323 [============================>.] - ETA: 0s - loss: 3.2797\n",
            "Epoch 00005: val_loss improved from 3.44241 to 3.35556, saving model to /content/drive/My Drive/music_generator/best_model.h5\n",
            "323/323 [==============================] - 3s 9ms/step - loss: 3.2798 - val_loss: 3.3556\n",
            "Epoch 6/50\n",
            "318/323 [============================>.] - ETA: 0s - loss: 3.1496\n",
            "Epoch 00006: val_loss improved from 3.35556 to 3.28807, saving model to /content/drive/My Drive/music_generator/best_model.h5\n",
            "323/323 [==============================] - 3s 9ms/step - loss: 3.1495 - val_loss: 3.2881\n",
            "Epoch 7/50\n",
            "322/323 [============================>.] - ETA: 0s - loss: 3.0115\n",
            "Epoch 00007: val_loss improved from 3.28807 to 3.21508, saving model to /content/drive/My Drive/music_generator/best_model.h5\n",
            "323/323 [==============================] - 3s 9ms/step - loss: 3.0116 - val_loss: 3.2151\n",
            "Epoch 8/50\n",
            "323/323 [==============================] - ETA: 0s - loss: 2.8796\n",
            "Epoch 00008: val_loss improved from 3.21508 to 3.15299, saving model to /content/drive/My Drive/music_generator/best_model.h5\n",
            "323/323 [==============================] - 3s 9ms/step - loss: 2.8796 - val_loss: 3.1530\n",
            "Epoch 9/50\n",
            "317/323 [============================>.] - ETA: 0s - loss: 2.7363\n",
            "Epoch 00009: val_loss improved from 3.15299 to 3.08434, saving model to /content/drive/My Drive/music_generator/best_model.h5\n",
            "323/323 [==============================] - 3s 9ms/step - loss: 2.7358 - val_loss: 3.0843\n",
            "Epoch 10/50\n",
            "318/323 [============================>.] - ETA: 0s - loss: 2.5883\n",
            "Epoch 00010: val_loss improved from 3.08434 to 3.01647, saving model to /content/drive/My Drive/music_generator/best_model.h5\n",
            "323/323 [==============================] - 3s 9ms/step - loss: 2.5882 - val_loss: 3.0165\n",
            "Epoch 11/50\n",
            "319/323 [============================>.] - ETA: 0s - loss: 2.4428\n",
            "Epoch 00011: val_loss improved from 3.01647 to 2.97992, saving model to /content/drive/My Drive/music_generator/best_model.h5\n",
            "323/323 [==============================] - 3s 9ms/step - loss: 2.4439 - val_loss: 2.9799\n",
            "Epoch 12/50\n",
            "323/323 [==============================] - ETA: 0s - loss: 2.2964\n",
            "Epoch 00012: val_loss improved from 2.97992 to 2.91457, saving model to /content/drive/My Drive/music_generator/best_model.h5\n",
            "323/323 [==============================] - 3s 9ms/step - loss: 2.2964 - val_loss: 2.9146\n",
            "Epoch 13/50\n",
            "318/323 [============================>.] - ETA: 0s - loss: 2.1595\n",
            "Epoch 00013: val_loss improved from 2.91457 to 2.87065, saving model to /content/drive/My Drive/music_generator/best_model.h5\n",
            "323/323 [==============================] - 3s 9ms/step - loss: 2.1589 - val_loss: 2.8707\n",
            "Epoch 14/50\n",
            "319/323 [============================>.] - ETA: 0s - loss: 2.0142\n",
            "Epoch 00014: val_loss improved from 2.87065 to 2.84960, saving model to /content/drive/My Drive/music_generator/best_model.h5\n",
            "323/323 [==============================] - 3s 9ms/step - loss: 2.0150 - val_loss: 2.8496\n",
            "Epoch 15/50\n",
            "317/323 [============================>.] - ETA: 0s - loss: 1.8831\n",
            "Epoch 00015: val_loss improved from 2.84960 to 2.82105, saving model to /content/drive/My Drive/music_generator/best_model.h5\n",
            "323/323 [==============================] - 3s 9ms/step - loss: 1.8822 - val_loss: 2.8211\n",
            "Epoch 16/50\n",
            "321/323 [============================>.] - ETA: 0s - loss: 1.7526\n",
            "Epoch 00016: val_loss improved from 2.82105 to 2.80046, saving model to /content/drive/My Drive/music_generator/best_model.h5\n",
            "323/323 [==============================] - 3s 9ms/step - loss: 1.7521 - val_loss: 2.8005\n",
            "Epoch 17/50\n",
            "323/323 [==============================] - ETA: 0s - loss: 1.6213\n",
            "Epoch 00017: val_loss improved from 2.80046 to 2.77686, saving model to /content/drive/My Drive/music_generator/best_model.h5\n",
            "323/323 [==============================] - 3s 9ms/step - loss: 1.6213 - val_loss: 2.7769\n",
            "Epoch 18/50\n",
            "317/323 [============================>.] - ETA: 0s - loss: 1.4995\n",
            "Epoch 00018: val_loss did not improve from 2.77686\n",
            "323/323 [==============================] - 3s 9ms/step - loss: 1.4998 - val_loss: 2.7921\n",
            "Epoch 19/50\n",
            "317/323 [============================>.] - ETA: 0s - loss: 1.3881\n",
            "Epoch 00019: val_loss did not improve from 2.77686\n",
            "323/323 [==============================] - 3s 9ms/step - loss: 1.3892 - val_loss: 2.7882\n",
            "Epoch 20/50\n",
            "318/323 [============================>.] - ETA: 0s - loss: 1.2726\n",
            "Epoch 00020: val_loss did not improve from 2.77686\n",
            "323/323 [==============================] - 3s 9ms/step - loss: 1.2742 - val_loss: 2.8156\n",
            "Epoch 21/50\n",
            "318/323 [============================>.] - ETA: 0s - loss: 1.1653\n",
            "Epoch 00021: val_loss did not improve from 2.77686\n",
            "323/323 [==============================] - 3s 9ms/step - loss: 1.1651 - val_loss: 2.8281\n",
            "Epoch 22/50\n",
            "317/323 [============================>.] - ETA: 0s - loss: 1.0898\n",
            "Epoch 00022: val_loss did not improve from 2.77686\n",
            "323/323 [==============================] - 3s 9ms/step - loss: 1.0886 - val_loss: 2.8271\n",
            "Epoch 23/50\n",
            "317/323 [============================>.] - ETA: 0s - loss: 0.9808\n",
            "Epoch 00023: val_loss did not improve from 2.77686\n",
            "323/323 [==============================] - 3s 9ms/step - loss: 0.9818 - val_loss: 2.8599\n",
            "Epoch 24/50\n",
            "322/323 [============================>.] - ETA: 0s - loss: 0.8966\n",
            "Epoch 00024: val_loss did not improve from 2.77686\n",
            "323/323 [==============================] - 3s 9ms/step - loss: 0.8968 - val_loss: 2.9145\n",
            "Epoch 25/50\n",
            "323/323 [==============================] - ETA: 0s - loss: 0.8182\n",
            "Epoch 00025: val_loss did not improve from 2.77686\n",
            "323/323 [==============================] - 3s 9ms/step - loss: 0.8182 - val_loss: 2.9503\n",
            "Epoch 26/50\n",
            "319/323 [============================>.] - ETA: 0s - loss: 0.7304\n",
            "Epoch 00026: val_loss did not improve from 2.77686\n",
            "323/323 [==============================] - 3s 9ms/step - loss: 0.7306 - val_loss: 3.0143\n",
            "Epoch 27/50\n",
            "322/323 [============================>.] - ETA: 0s - loss: 0.6578\n",
            "Epoch 00027: val_loss did not improve from 2.77686\n",
            "323/323 [==============================] - 3s 9ms/step - loss: 0.6579 - val_loss: 3.0817\n",
            "Epoch 28/50\n",
            "318/323 [============================>.] - ETA: 0s - loss: 0.6038\n",
            "Epoch 00028: val_loss did not improve from 2.77686\n",
            "323/323 [==============================] - 3s 9ms/step - loss: 0.6044 - val_loss: 3.1238\n",
            "Epoch 29/50\n",
            "322/323 [============================>.] - ETA: 0s - loss: 0.5598\n",
            "Epoch 00029: val_loss did not improve from 2.77686\n",
            "323/323 [==============================] - 3s 9ms/step - loss: 0.5598 - val_loss: 3.2079\n",
            "Epoch 30/50\n",
            "319/323 [============================>.] - ETA: 0s - loss: 0.5028\n",
            "Epoch 00030: val_loss did not improve from 2.77686\n",
            "323/323 [==============================] - 3s 9ms/step - loss: 0.5032 - val_loss: 3.2615\n",
            "Epoch 31/50\n",
            "317/323 [============================>.] - ETA: 0s - loss: 0.4270\n",
            "Epoch 00031: val_loss did not improve from 2.77686\n",
            "323/323 [==============================] - 3s 9ms/step - loss: 0.4273 - val_loss: 3.3148\n",
            "Epoch 32/50\n",
            "319/323 [============================>.] - ETA: 0s - loss: 0.3861\n",
            "Epoch 00032: val_loss did not improve from 2.77686\n",
            "323/323 [==============================] - 3s 9ms/step - loss: 0.3864 - val_loss: 3.3980\n",
            "Epoch 33/50\n",
            "318/323 [============================>.] - ETA: 0s - loss: 0.3627\n",
            "Epoch 00033: val_loss did not improve from 2.77686\n",
            "323/323 [==============================] - 3s 9ms/step - loss: 0.3644 - val_loss: 3.4518\n",
            "Epoch 34/50\n",
            "318/323 [============================>.] - ETA: 0s - loss: 0.3284\n",
            "Epoch 00034: val_loss did not improve from 2.77686\n",
            "323/323 [==============================] - 3s 9ms/step - loss: 0.3293 - val_loss: 3.5642\n",
            "Epoch 35/50\n",
            "318/323 [============================>.] - ETA: 0s - loss: 0.2943\n",
            "Epoch 00035: val_loss did not improve from 2.77686\n",
            "323/323 [==============================] - 3s 9ms/step - loss: 0.2951 - val_loss: 3.6169\n",
            "Epoch 36/50\n",
            "323/323 [==============================] - ETA: 0s - loss: 0.2921\n",
            "Epoch 00036: val_loss did not improve from 2.77686\n",
            "323/323 [==============================] - 3s 9ms/step - loss: 0.2921 - val_loss: 3.6864\n",
            "Epoch 37/50\n",
            "321/323 [============================>.] - ETA: 0s - loss: 0.2310\n",
            "Epoch 00037: val_loss did not improve from 2.77686\n",
            "323/323 [==============================] - 3s 9ms/step - loss: 0.2311 - val_loss: 3.7878\n",
            "Epoch 38/50\n",
            "318/323 [============================>.] - ETA: 0s - loss: 0.2225\n",
            "Epoch 00038: val_loss did not improve from 2.77686\n",
            "323/323 [==============================] - 3s 9ms/step - loss: 0.2225 - val_loss: 3.8657\n",
            "Epoch 39/50\n",
            "322/323 [============================>.] - ETA: 0s - loss: 0.2213\n",
            "Epoch 00039: val_loss did not improve from 2.77686\n",
            "323/323 [==============================] - 3s 9ms/step - loss: 0.2213 - val_loss: 3.9397\n",
            "Epoch 40/50\n",
            "322/323 [============================>.] - ETA: 0s - loss: 0.2015\n",
            "Epoch 00040: val_loss did not improve from 2.77686\n",
            "323/323 [==============================] - 3s 9ms/step - loss: 0.2015 - val_loss: 4.0021\n",
            "Epoch 41/50\n",
            "322/323 [============================>.] - ETA: 0s - loss: 0.1861\n",
            "Epoch 00041: val_loss did not improve from 2.77686\n",
            "323/323 [==============================] - 3s 9ms/step - loss: 0.1861 - val_loss: 4.1144\n",
            "Epoch 42/50\n",
            "322/323 [============================>.] - ETA: 0s - loss: 0.1947\n",
            "Epoch 00042: val_loss did not improve from 2.77686\n",
            "323/323 [==============================] - 3s 9ms/step - loss: 0.1947 - val_loss: 4.1533\n",
            "Epoch 43/50\n",
            "323/323 [==============================] - ETA: 0s - loss: 0.1780\n",
            "Epoch 00043: val_loss did not improve from 2.77686\n",
            "323/323 [==============================] - 3s 9ms/step - loss: 0.1780 - val_loss: 4.2340\n",
            "Epoch 44/50\n",
            "318/323 [============================>.] - ETA: 0s - loss: 0.2009\n",
            "Epoch 00044: val_loss did not improve from 2.77686\n",
            "323/323 [==============================] - 3s 9ms/step - loss: 0.2016 - val_loss: 4.2319\n",
            "Epoch 45/50\n",
            "321/323 [============================>.] - ETA: 0s - loss: 0.1968\n",
            "Epoch 00045: val_loss did not improve from 2.77686\n",
            "323/323 [==============================] - 3s 9ms/step - loss: 0.1968 - val_loss: 4.2869\n",
            "Epoch 46/50\n",
            "323/323 [==============================] - ETA: 0s - loss: 0.2121\n",
            "Epoch 00046: val_loss did not improve from 2.77686\n",
            "323/323 [==============================] - 3s 9ms/step - loss: 0.2121 - val_loss: 4.3216\n",
            "Epoch 47/50\n",
            "322/323 [============================>.] - ETA: 0s - loss: 0.1706\n",
            "Epoch 00047: val_loss did not improve from 2.77686\n",
            "323/323 [==============================] - 3s 9ms/step - loss: 0.1706 - val_loss: 4.3709\n",
            "Epoch 48/50\n",
            "323/323 [==============================] - ETA: 0s - loss: 0.1168\n",
            "Epoch 00048: val_loss did not improve from 2.77686\n",
            "323/323 [==============================] - 3s 9ms/step - loss: 0.1168 - val_loss: 4.4243\n",
            "Epoch 49/50\n",
            "323/323 [==============================] - ETA: 0s - loss: 0.1247\n",
            "Epoch 00049: val_loss did not improve from 2.77686\n",
            "323/323 [==============================] - 3s 9ms/step - loss: 0.1247 - val_loss: 4.4859\n",
            "Epoch 50/50\n",
            "323/323 [==============================] - ETA: 0s - loss: 0.1097\n",
            "Epoch 00050: val_loss did not improve from 2.77686\n",
            "323/323 [==============================] - 3s 9ms/step - loss: 0.1097 - val_loss: 4.5389\n"
          ],
          "name": "stdout"
        }
      ]
    },
    {
      "cell_type": "code",
      "metadata": {
        "id": "AZf-flfxiQ4_",
        "colab_type": "code",
        "colab": {}
      },
      "source": [
        "model = load_model(os.path.join(cwd,'best_model.h5'))"
      ],
      "execution_count": 46,
      "outputs": []
    },
    {
      "cell_type": "code",
      "metadata": {
        "id": "N1wozMoClPsM",
        "colab_type": "code",
        "colab": {
          "base_uri": "https://localhost:8080/",
          "height": 34
        },
        "outputId": "689f2143-38f8-4046-b285-ff3c84f1e527"
      },
      "source": [
        "ind = np.random.randint(0,len(x_test)-1)\n",
        "\n",
        "random_music = x_test[ind]\n",
        "\n",
        "predictions=[]\n",
        "for i in range(10):\n",
        "\n",
        "    random_music = random_music.reshape(1,n_timesteps)\n",
        "\n",
        "    prob  = model.predict(random_music)[0]\n",
        "    y_pred= np.argmax(prob,axis=0)\n",
        "    predictions.append(y_pred)\n",
        "\n",
        "    random_music = np.insert(random_music[0],len(random_music[0]),y_pred)\n",
        "    random_music = random_music[1:]\n",
        "    \n",
        "print(predictions)"
      ],
      "execution_count": 47,
      "outputs": [
        {
          "output_type": "stream",
          "text": [
            "[12, 85, 83, 12, 12, 80, 122, 50, 11, 50]\n"
          ],
          "name": "stdout"
        }
      ]
    },
    {
      "cell_type": "code",
      "metadata": {
        "id": "jqLF9qbpld4x",
        "colab_type": "code",
        "colab": {}
      },
      "source": [
        "x_int_to_note = dict((number, note_) for number, note_ in enumerate(unique_x)) \n",
        "predicted_notes = [x_int_to_note[i] for i in predictions]"
      ],
      "execution_count": 48,
      "outputs": []
    },
    {
      "cell_type": "code",
      "metadata": {
        "id": "VUgtyuQdlqsv",
        "colab_type": "code",
        "colab": {}
      },
      "source": [
        "def convert_to_midi(prediction_output):\n",
        "   \n",
        "    offset = 0\n",
        "    output_notes = []\n",
        "\n",
        "    # create note and chord objects based on the values generated by the model\n",
        "    for pattern in prediction_output:\n",
        "        \n",
        "        # pattern is a chord\n",
        "        if ('.' in pattern) or pattern.isdigit():\n",
        "            notes_in_chord = pattern.split('.')\n",
        "            notes = []\n",
        "            for current_note in notes_in_chord:\n",
        "                \n",
        "                cn=int(current_note)\n",
        "                new_note = note.Note(cn)\n",
        "                new_note.storedInstrument = instrument.Piano()\n",
        "                notes.append(new_note)\n",
        "                \n",
        "            new_chord = chord.Chord(notes)\n",
        "            new_chord.offset = offset\n",
        "            output_notes.append(new_chord)\n",
        "            \n",
        "        # pattern is a note\n",
        "        else:\n",
        "            \n",
        "            new_note = note.Note(pattern)\n",
        "            new_note.offset = offset\n",
        "            new_note.storedInstrument = instrument.Piano()\n",
        "            output_notes.append(new_note)\n",
        "\n",
        "        # increase offset each iteration so that notes do not stack\n",
        "        offset += 1\n",
        "    midi_stream = stream.Stream(output_notes)\n",
        "    midi_stream.write('midi', fp=os.path.join(cwd,'music.mid'))\n"
      ],
      "execution_count": 35,
      "outputs": []
    },
    {
      "cell_type": "code",
      "metadata": {
        "id": "IXpi2KPxlvS_",
        "colab_type": "code",
        "colab": {}
      },
      "source": [
        "convert_to_midi(predicted_notes)"
      ],
      "execution_count": 49,
      "outputs": []
    },
    {
      "cell_type": "code",
      "metadata": {
        "id": "6arXYhZNlxfa",
        "colab_type": "code",
        "colab": {
          "base_uri": "https://localhost:8080/",
          "height": 34
        },
        "outputId": "05baf6a9-559e-4970-b612-69e55c4f8b2d"
      },
      "source": [
        "predicted_notes"
      ],
      "execution_count": 37,
      "outputs": [
        {
          "output_type": "execute_result",
          "data": {
            "text/plain": [
              "['G#4', 'G#4', 'E4', 'G#4', 'G#4', 'G#4', 'E2', 'G#4', 'G#4', 'G#4']"
            ]
          },
          "metadata": {
            "tags": []
          },
          "execution_count": 37
        }
      ]
    },
    {
      "cell_type": "code",
      "metadata": {
        "id": "8hxDF17SmdFz",
        "colab_type": "code",
        "colab": {}
      },
      "source": [
        ""
      ],
      "execution_count": null,
      "outputs": []
    }
  ]
}